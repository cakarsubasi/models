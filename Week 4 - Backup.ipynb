{
 "cells": [
  {
   "cell_type": "code",
   "execution_count": 46,
   "metadata": {},
   "outputs": [],
   "source": [
    "import tensorflow as tf\n",
    "from research.object_detection.utils import dataset_util\n",
    "from research.object_detection.utils import visualization_utils as viz_utils\n",
    "from research.object_detection.utils import label_map_util\n",
    "\n",
    "import numpy as np \n",
    "import matplotlib\n",
    "import matplotlib.pyplot as plt\n",
    "matplotlib.use('TkAgg')\n",
    "import tkinter \n",
    "import ast"
   ]
  },
  {
   "cell_type": "code",
   "execution_count": 43,
   "metadata": {},
   "outputs": [],
   "source": [
    "record_train = \"data/muscima/training.record\"\n",
    "\n",
    "class_map = \"mapping_all_classes.txt\""
   ]
  },
  {
   "cell_type": "code",
   "execution_count": 3,
   "metadata": {},
   "outputs": [],
   "source": [
    "dataset = tf.data.TFRecordDataset(record_train)"
   ]
  },
  {
   "cell_type": "code",
   "execution_count": 36,
   "metadata": {},
   "outputs": [
    {
     "data": {
      "text/plain": [
       "dict_keys(['image/encoded', 'image/filename', 'image/format', 'image/height', 'image/object/bbox/xmax', 'image/object/bbox/xmin', 'image/object/bbox/ymax', 'image/object/bbox/ymin', 'image/object/class/label', 'image/object/class/text', 'image/source_id', 'image/width', 'image/decoded'])"
      ]
     },
     "execution_count": 36,
     "metadata": {},
     "output_type": "execute_result"
    }
   ],
   "source": [
    "data = {\n",
    "    'image/height': tf.io.FixedLenFeature([], tf.int64),\n",
    "    'image/width': tf.io.FixedLenFeature([], tf.int64),\n",
    "    'image/filename': tf.io.FixedLenFeature([], tf.string),\n",
    "    'image/source_id': tf.io.FixedLenFeature([], tf.string),\n",
    "    #'image/key/sha256':tf.io.FixedLenFeature([], tf.string),\n",
    "    'image/encoded': tf.io.FixedLenFeature([], tf.string),\n",
    "    #'image/encoded': tf.io.decode_png([], channels=0),\n",
    "    'image/format': tf.io.FixedLenFeature([], tf.string),\n",
    "    'image/object/bbox/xmin': tf.io.FixedLenSequenceFeature([], tf.float32, allow_missing=True),\n",
    "    'image/object/bbox/xmax': tf.io.FixedLenSequenceFeature([], tf.float32, allow_missing=True),\n",
    "    'image/object/bbox/ymin': tf.io.FixedLenSequenceFeature([], tf.float32, allow_missing=True),\n",
    "    'image/object/bbox/ymax': tf.io.FixedLenSequenceFeature([], tf.float32, allow_missing=True),\n",
    "    'image/object/class/text': tf.io.FixedLenSequenceFeature([], tf.string, allow_missing=True),\n",
    "    'image/object/class/label': tf.io.FixedLenSequenceFeature([], tf.int64, allow_missing=True),\n",
    "}\n",
    "\n",
    "training_data = []\n",
    "\n",
    "for element in dataset.as_numpy_iterator():\n",
    "    #example = tf.train.Example.FromString(element)\n",
    "    example = tf.io.parse_single_example(element, data)\n",
    "    training_data = [training_data, example]\n",
    "    break\n",
    "\n",
    "example.keys()\n",
    "example['image/decoded'] = tf.io.decode_image(example.get('image/encoded'))\n",
    "\n",
    "example.keys()"
   ]
  },
  {
   "cell_type": "code",
   "execution_count": 48,
   "metadata": {},
   "outputs": [
    {
     "data": {
      "text/plain": [
       "{'16th_flag': 1,\n",
       " '16th_rest': 2,\n",
       " '8th_flag': 3,\n",
       " '8th_rest': 4,\n",
       " 'accent': 5,\n",
       " 'arpeggio_wobble': 6,\n",
       " 'beam': 7,\n",
       " 'breath_mark': 8,\n",
       " 'c-clef': 9,\n",
       " 'curved-line_(tie-or-slur)': 10,\n",
       " 'dotted_horizontal_spanner': 11,\n",
       " 'double_sharp': 12,\n",
       " 'duration-dot': 13,\n",
       " 'dynamics_text': 14,\n",
       " 'f-clef': 15,\n",
       " 'fermata': 16,\n",
       " 'flat': 17,\n",
       " 'g-clef': 18,\n",
       " 'glissando': 19,\n",
       " 'grace-notehead-full': 20,\n",
       " 'grace_strikethrough': 21,\n",
       " 'hairpin-cresc': 22,\n",
       " 'hairpin-decr': 23,\n",
       " 'half_rest': 24,\n",
       " 'horizontal_spanner': 25,\n",
       " 'instrument_specific': 26,\n",
       " 'key_signature': 27,\n",
       " 'ledger_line': 28,\n",
       " 'letter_A': 29,\n",
       " 'letter_C': 30,\n",
       " 'letter_E': 31,\n",
       " 'letter_F': 32,\n",
       " 'letter_L': 33,\n",
       " 'letter_M': 34,\n",
       " 'letter_P': 35,\n",
       " 'letter_R': 36,\n",
       " 'letter_S': 37,\n",
       " 'letter_T': 38,\n",
       " 'letter_V': 39,\n",
       " 'letter_a': 40,\n",
       " 'letter_b': 41,\n",
       " 'letter_c': 42,\n",
       " 'letter_d': 43,\n",
       " 'letter_e': 44,\n",
       " 'letter_f': 45,\n",
       " 'letter_g': 46,\n",
       " 'letter_i': 47,\n",
       " 'letter_j': 48,\n",
       " 'letter_l': 49,\n",
       " 'letter_m': 50,\n",
       " 'letter_n': 51,\n",
       " 'letter_o': 52,\n",
       " 'letter_other': 53,\n",
       " 'letter_p': 54,\n",
       " 'letter_r': 55,\n",
       " 'letter_s': 56,\n",
       " 'letter_t': 57,\n",
       " 'letter_u': 58,\n",
       " 'letter_v': 59,\n",
       " 'letter_x': 60,\n",
       " 'letter_z': 61,\n",
       " 'measure_separator': 62,\n",
       " 'multi-measure_rest': 63,\n",
       " 'multi-staff_brace': 64,\n",
       " 'multi-staff_bracket': 65,\n",
       " 'multiple-note_tremolo': 66,\n",
       " 'natural': 67,\n",
       " 'notehead-empty': 68,\n",
       " 'notehead-full': 69,\n",
       " 'numeral_0': 70,\n",
       " 'numeral_1': 71,\n",
       " 'numeral_2': 72,\n",
       " 'numeral_3': 73,\n",
       " 'numeral_4': 74,\n",
       " 'numeral_5': 75,\n",
       " 'numeral_6': 76,\n",
       " 'numeral_7': 77,\n",
       " 'numeral_8': 78,\n",
       " 'ornament(s)': 79,\n",
       " 'other-clef': 80,\n",
       " 'other-dot': 81,\n",
       " 'other_numeric_sign': 82,\n",
       " 'other_text': 83,\n",
       " 'quarter_rest': 84,\n",
       " 'repeat': 85,\n",
       " 'repeat-dot': 86,\n",
       " 'repeat_measure': 87,\n",
       " 'sharp': 88,\n",
       " 'slur': 89,\n",
       " 'staccato-dot': 90,\n",
       " 'staff': 91,\n",
       " 'staff_grouping': 92,\n",
       " 'staff_line': 93,\n",
       " 'staff_space': 94,\n",
       " 'stem': 95,\n",
       " 'tempo_text': 96,\n",
       " 'tenuto': 97,\n",
       " 'thick_barline': 98,\n",
       " 'thin_barline': 99,\n",
       " 'tie': 100,\n",
       " 'time_signature': 101,\n",
       " 'transposition_text': 102,\n",
       " 'trill': 103,\n",
       " 'trill_wobble': 104,\n",
       " 'tuple': 105,\n",
       " 'tuple_bracketline': 106,\n",
       " 'unclassified': 107,\n",
       " 'volta': 108,\n",
       " 'whole-time_mark': 109,\n",
       " 'whole_rest': 110}"
      ]
     },
     "execution_count": 48,
     "metadata": {},
     "output_type": "execute_result"
    }
   ],
   "source": [
    "label_map_dict = label_map_util.get_label_map_dict(class_map)\n",
    "\n",
    "#for keys in label_map_dict.items"
   ]
  },
  {
   "cell_type": "code",
   "execution_count": 52,
   "metadata": {},
   "outputs": [
    {
     "name": "stdout",
     "output_type": "stream",
     "text": [
      "[[0.16079545 0.68107647 0.2125     0.683653  ]\n",
      " [0.16647728 0.70684224 0.20568182 0.70941883]\n",
      " [0.15965909 0.7540796  0.21022727 0.75665617]\n",
      " ...\n",
      " [0.54829544 0.06269682 0.6153409  0.9587747 ]\n",
      " [0.68125    0.06298311 0.74886364 0.9584884 ]\n",
      " [0.81363636 0.06241054 0.8823864  0.9582021 ]]\n"
     ]
    }
   ],
   "source": [
    "img_raw = example['image/decoded'].numpy()\n",
    "\n",
    "#bboxes = [example['image/object/bbox/xmin'].numpy(), example['image/object/bbox/xmax'].numpy(),\n",
    "#          example['image/object/bbox/ymin'].numpy(), example['image/object/bbox/ymax'].numpy()] \n",
    "\n",
    "example_np_xmin = example['image/object/bbox/xmin'].numpy()\n",
    "example_np_xmax = example['image/object/bbox/xmax'].numpy()\n",
    "example_np_ymin = example['image/object/bbox/ymin'].numpy()\n",
    "example_np_ymax = example['image/object/bbox/ymax'].numpy()\n",
    "\n",
    "example_np_labels = example['image/object/class/label'].numpy()\n",
    "\n",
    "example_np_bbox = np.vstack((example_np_ymin, example_np_xmin, example_np_ymax, example_np_xmax)).transpose()\n",
    "\n",
    "print(example_np_bbox)"
   ]
  },
  {
   "cell_type": "code",
   "execution_count": 59,
   "metadata": {},
   "outputs": [],
   "source": [
    "plt.figure(figsize=(10,10))\n",
    "plt.imshow(img_raw_rgb)\n",
    "plt.show()"
   ]
  },
  {
   "cell_type": "code",
   "execution_count": 58,
   "metadata": {},
   "outputs": [
    {
     "data": {
      "text/plain": [
       "(1760, 3493, 3)"
      ]
     },
     "execution_count": 58,
     "metadata": {},
     "output_type": "execute_result"
    }
   ],
   "source": [
    "img_raw_rgb = np.repeat(img_raw, 3, axis=2)\n",
    "img_raw_rgb.shape"
   ]
  },
  {
   "cell_type": "code",
   "execution_count": 79,
   "metadata": {},
   "outputs": [],
   "source": [
    "dummy_scores = np.repeat(np.array([1.0], dtype=np.float32), example_np_labels.shape[0])\n",
    "\n",
    "plot_detections(img_raw_rgb, example_np_bbox, example_np_labels, dummy_scores, label_map_dict)"
   ]
  },
  {
   "cell_type": "code",
   "execution_count": 73,
   "metadata": {},
   "outputs": [
    {
     "data": {
      "text/plain": [
       "array([95, 95, 95, 95, 95, 95, 95, 95, 95, 95, 95, 95, 95, 95, 95, 95, 95,\n",
       "       95, 95, 95, 95, 95, 95, 95, 95, 95, 95, 95, 95, 95, 95, 95, 95, 95,\n",
       "       95, 95, 95, 95, 95, 95, 95, 95, 95, 95, 95, 95, 95, 95, 95, 95, 95,\n",
       "       95, 95, 95, 95, 95, 95, 95, 95, 95, 95, 95, 95, 95, 95, 95, 95, 95,\n",
       "       95, 95, 95, 95, 95, 95, 95, 95, 95, 95, 95, 95, 95, 95, 95, 95, 95,\n",
       "       95, 95, 95, 95, 95, 95, 95, 95, 95, 95, 95, 95, 95, 95, 95, 95, 95,\n",
       "       95, 95, 95, 95, 95, 95, 95, 95, 95, 95, 95, 95, 95, 95, 95, 95, 95,\n",
       "       95, 95, 95, 95, 95, 95, 95, 95, 95, 95, 95, 95, 95, 95, 95, 95, 95,\n",
       "       95, 95, 95, 95, 95, 95, 95, 95, 95, 95, 95, 95, 95, 95, 95, 95, 95,\n",
       "       95, 95, 95, 95, 95, 95, 95, 95, 95, 95, 95, 95, 95, 95, 95, 95, 95,\n",
       "       95, 95, 95, 89, 89, 89, 89, 89, 89, 89, 89, 89, 89, 89, 89, 89, 89,\n",
       "       89, 89, 89, 95, 95, 95, 95,  7,  7,  7,  7,  7,  7,  7,  7,  7,  7,\n",
       "        7,  7,  7,  7,  7,  7,  7,  7,  7,  7,  7,  7,  7,  7,  7,  7,  7,\n",
       "        7,  7,  7,  7,  7,  7,  7,  7,  7,  7,  7,  7,  7,  7,  7,  7,  7,\n",
       "        7,  7, 89, 89, 89, 95, 95, 95,  7,  7, 95,  7,  7, 95, 95,  7,  7,\n",
       "        7,  7,  7, 95,  7, 91, 91, 91, 91, 91, 91], dtype=int64)"
      ]
     },
     "execution_count": 73,
     "metadata": {},
     "output_type": "execute_result"
    }
   ],
   "source": [
    "example_np_labels"
   ]
  },
  {
   "cell_type": "code",
   "execution_count": 78,
   "metadata": {},
   "outputs": [],
   "source": [
    "def plot_detections(image_np,\n",
    "                    boxes,\n",
    "                    classes, \n",
    "                    scores, \n",
    "                    category_index, \n",
    "                    figsize=(12,16),\n",
    "                    image_name=None):\n",
    "    image_np_with_annotations = image_np.copy()\n",
    "    viz_utils.visualize_boxes_and_labels_on_image_array(\n",
    "        image_np_with_annotations,\n",
    "        boxes,\n",
    "        classes,\n",
    "        scores,\n",
    "        category_index,\n",
    "        use_normalized_coordinates=True,\n",
    "        min_score_thresh=0.8,\n",
    "        max_boxes_to_draw=scores.shape[0]\n",
    "    )\n",
    "    if image_name:\n",
    "        plt.imsave(image_name, image_np_with_annotations)\n",
    "    else:\n",
    "        plt.imshow(image_np_with_annotations)\n",
    "        plt.show()\n",
    "    \n",
    "    "
   ]
  },
  {
   "cell_type": "code",
   "execution_count": 61,
   "metadata": {},
   "outputs": [],
   "source": []
  }
 ],
 "metadata": {
  "interpreter": {
   "hash": "73d43add95346d4398e31ae9f91d6e09eefd54bad8c0b6b9d72d8d059bb26101"
  },
  "kernelspec": {
   "display_name": "Python 3.9.10 64-bit",
   "language": "python",
   "name": "python3"
  },
  "language_info": {
   "codemirror_mode": {
    "name": "ipython",
    "version": 3
   },
   "file_extension": ".py",
   "mimetype": "text/x-python",
   "name": "python",
   "nbconvert_exporter": "python",
   "pygments_lexer": "ipython3",
   "version": "3.9.10"
  },
  "orig_nbformat": 4
 },
 "nbformat": 4,
 "nbformat_minor": 2
}
